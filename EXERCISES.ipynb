{
  "nbformat": 4,
  "nbformat_minor": 0,
  "metadata": {
    "colab": {
      "provenance": [],
      "authorship_tag": "ABX9TyPgpLD8OoZ7CgvcLlHmQd2V",
      "include_colab_link": true
    },
    "kernelspec": {
      "name": "python3",
      "display_name": "Python 3"
    },
    "language_info": {
      "name": "python"
    }
  },
  "cells": [
    {
      "cell_type": "markdown",
      "metadata": {
        "id": "view-in-github",
        "colab_type": "text"
      },
      "source": [
        "<a href=\"https://colab.research.google.com/github/Serhat-Srt/Math-2024-25-Winter/blob/main/EXERCISES.ipynb\" target=\"_parent\"><img src=\"https://colab.research.google.com/assets/colab-badge.svg\" alt=\"Open In Colab\"/></a>"
      ]
    },
    {
      "cell_type": "code",
      "execution_count": 12,
      "metadata": {
        "colab": {
          "base_uri": "https://localhost:8080/"
        },
        "id": "_vGzgm_4x-0Q",
        "outputId": "13cfb38a-5f69-4759-d57c-0ebca0a37ff8"
      },
      "outputs": [
        {
          "output_type": "stream",
          "name": "stdout",
          "text": [
            "[[ 6  8]\n",
            " [10 12]]\n",
            "[[4 4]\n",
            " [4 4]]\n",
            "[[0 4]\n",
            " [6 4]]\n",
            "[[ 0  6 10]\n",
            " [ 6  5 14]]\n",
            "[[0.5 1. ]\n",
            " [1.5 2. ]]\n",
            "[[10 12]\n",
            " [14 16]]\n",
            "[[ 3 -6]\n",
            " [-9  0]]\n",
            "[[-4  8 12]\n",
            " [16  0 24]]\n",
            "[[19 22]\n",
            " [43 50]]\n",
            "[[23 34]\n",
            " [31 46]]\n",
            "[[ 7  2]\n",
            " [13  6]]\n",
            "[[28 32]\n",
            " [46 56]]\n"
          ]
        }
      ],
      "source": [
        "import numpy as np\n",
        "\n",
        "# 1. Question\n",
        "A = np.array([[1, 2], [3, 4]])\n",
        "B = np.array([[5, 6], [7, 8]])\n",
        "C = np.array([[-1, 2], [3, 0]])\n",
        "D = np.array([[-1, 2, 3], [4, 0, 6]])\n",
        "E = np.array([[1, 2], [4, 5], [7, 8]])\n",
        "\n",
        "print(A + B)\n",
        "print(B - A)\n",
        "print(A + C)\n",
        "print(D + E.T)\n",
        "\n",
        "print(0.5 * A)\n",
        "print(2 * B)\n",
        "print(-3 * C)\n",
        "print(4 * D)\n",
        "\n",
        "print(A @ B)\n",
        "print(B @ A)\n",
        "print(A @ D[:, :2])\n",
        "print(D @ E)"
      ]
    },
    {
      "cell_type": "code",
      "source": [
        "# 2. Determinants 2x2 and 3x3\n",
        "import numpy as np\n",
        "\n",
        "A = np.array([[2, 3], [1, 4]])\n",
        "B = np.array([[5, 6], [7, 8]])\n",
        "C = np.array([[-1, 2], [3, 0]])\n",
        "print(np.linalg.det(A), np.linalg.det(B), np.linalg.det(C))\n",
        "\n",
        "D = np.array([[1, 0, 2], [-1, 3, 1], [2, 4, -2]])\n",
        "E = np.array([[3, 1, -1], [0, 2, 4], [2, 0, -2]])\n",
        "F = np.array([[2, -3, 1], [4, -1, -2], [1, 5, 3]])\n",
        "print(np.linalg.det(D), np.linalg.det(E), np.linalg.det(F))\n"
      ],
      "metadata": {
        "colab": {
          "base_uri": "https://localhost:8080/"
        },
        "id": "GyG-XBmrykbI",
        "outputId": "7cedf385-4d0f-4596-91da-3fde872c6ae4"
      },
      "execution_count": 24,
      "outputs": [
        {
          "output_type": "stream",
          "name": "stdout",
          "text": [
            "5.000000000000001 -2.000000000000005 -6.0\n",
            "-29.99999999999999 0.0 77.00000000000001\n"
          ]
        }
      ]
    },
    {
      "cell_type": "code",
      "source": [
        "# 3. Determinants using Laplace's Expansion\n",
        "A = np.array([[2, 3, 1], [1, 4, 0], [3, 2, 0]])\n",
        "B = np.array([[2, 3, 1], [4, 0, 0], [3, 2, 0]])\n",
        "C = np.array([[2, 3, 1, 4], [1, 0, 0, 6], [3, 2, 1, 5], [2, 1, 4, 0]])\n",
        "D = np.array([[2, 3, 1, 5], [4, 0, 0, 7], [3, 2, 1, 4], [2, 1, 4, 5]])\n",
        "print(np.linalg.det(A), np.linalg.det(B), np.linalg.det(C), np.linalg.det(D))\n"
      ],
      "metadata": {
        "colab": {
          "base_uri": "https://localhost:8080/"
        },
        "id": "dUEkgzoiy-jS",
        "outputId": "2c956f6c-8731-438c-f984-6234c593f0fe"
      },
      "execution_count": 27,
      "outputs": [
        {
          "output_type": "stream",
          "name": "stdout",
          "text": [
            "-10.000000000000002 7.999999999999998 -74.99999999999997 -103.00000000000001\n"
          ]
        }
      ]
    },
    {
      "cell_type": "code",
      "source": [
        "# 4. Determinants from the Gauss Method and Triangular Matrices\n",
        "A = np.array([[12, 3], [-18, -4]])\n",
        "B = np.array([[1, 2, 3], [4, 5, 6], [7, 8, 9]])\n",
        "\n",
        "def triangular_det(matrix):\n",
        "    upper = np.linalg.qr(matrix)[1]\n",
        "    return np.prod(np.diag(upper))\n",
        "\n",
        "print(triangular_det(A), triangular_det(B))\n"
      ],
      "metadata": {
        "colab": {
          "base_uri": "https://localhost:8080/"
        },
        "id": "jVkRwyZ3y_9K",
        "outputId": "5a82d733-4040-4b60-c88c-f1bdd14d2d8a"
      },
      "execution_count": 23,
      "outputs": [
        {
          "output_type": "stream",
          "name": "stdout",
          "text": [
            "-5.999999999999994 6.526751786450499e-15\n"
          ]
        }
      ]
    },
    {
      "cell_type": "code",
      "source": [
        "# 5. Inverse of a Matrix from the Formula\n",
        "\n",
        "A = np.array([[2, 0, 1], [0, 1, 0], [1, 2, 0]])\n",
        "inv_A = np.linalg.inv(A)\n",
        "print(inv_A)\n",
        "print(np.allclose(np.dot(A, inv_A), np.eye(3)))\n",
        "\n",
        "B = np.array([[4, -3, 7], [-1, 6, 3], [2, 9, 1]])\n",
        "rank_B = np.linalg.matrix_rank(B)\n",
        "print(rank_B)\n",
        "\n"
      ],
      "metadata": {
        "colab": {
          "base_uri": "https://localhost:8080/"
        },
        "id": "h5vzZl2HzByY",
        "outputId": "08d58c96-5f17-48a5-d9fa-875aa40e049a"
      },
      "execution_count": 22,
      "outputs": [
        {
          "output_type": "stream",
          "name": "stdout",
          "text": [
            "[[ 0. -2.  1.]\n",
            " [ 0.  1.  0.]\n",
            " [ 1.  4. -2.]]\n",
            "True\n",
            "3\n"
          ]
        }
      ]
    },
    {
      "cell_type": "code",
      "source": [
        "# 6. Inverse of a Matrix using the Gauss Method\n",
        "import numpy as np\n",
        "\n",
        "A = np.array([[1, 2], [3, 4]])\n",
        "B = np.array([[1, 2, 3], [4, 5, 1], [2, 3, 2]])\n",
        "C = np.array([[0, 0, 1], [0, 1, 0], [1, 0, 0]])\n",
        "\n",
        "inv_A = np.linalg.inv(A)\n",
        "inv_B = np.linalg.inv(B)\n",
        "inv_C = np.linalg.inv(C)\n",
        "\n",
        "print(\"Inverse of A:\\n\", inv_A)\n",
        "print(\"Inverse of B:\\n\", inv_B)\n",
        "print(\"Inverse of C:\\n\", inv_C)\n"
      ],
      "metadata": {
        "colab": {
          "base_uri": "https://localhost:8080/"
        },
        "id": "s5ayhGr_zEZw",
        "outputId": "4881efd8-1761-492b-a333-3c89713af95d"
      },
      "execution_count": 21,
      "outputs": [
        {
          "output_type": "stream",
          "name": "stdout",
          "text": [
            "Inverse of A:\n",
            " [[-2.   1. ]\n",
            " [ 1.5 -0.5]]\n",
            "Inverse of B:\n",
            " [[  7.   5. -13.]\n",
            " [ -6.  -4.  11.]\n",
            " [  2.   1.  -3.]]\n",
            "Inverse of C:\n",
            " [[0. 0. 1.]\n",
            " [0. 1. 0.]\n",
            " [1. 0. 0.]]\n"
          ]
        }
      ]
    },
    {
      "cell_type": "code",
      "source": [
        "# 7. Linear Equations old school\n",
        "\n",
        "from sympy import symbols, Eq, solve\n",
        "\n",
        "x, y = symbols('x y')\n",
        "\n",
        "# First system of equations\n",
        "eq1 = Eq(3*x - 2*y, 5)\n",
        "eq2 = Eq(2*x + 3*y, 7)\n",
        "\n",
        "sol = solve((eq1, eq2), (x, y))\n",
        "print(\"Solution:\", sol)\n",
        "\n"
      ],
      "metadata": {
        "colab": {
          "base_uri": "https://localhost:8080/"
        },
        "id": "JSsPvzExzaA6",
        "outputId": "9057c46e-2f82-473f-fb8c-bf8164787050"
      },
      "execution_count": 29,
      "outputs": [
        {
          "output_type": "stream",
          "name": "stdout",
          "text": [
            "Solution: {x: 29/13, y: 11/13}\n"
          ]
        }
      ]
    },
    {
      "cell_type": "code",
      "source": [
        "# 8. Linear equations by Cramer's Rule\n",
        "import numpy as np\n",
        "\n",
        "def cramers_rule(coeff_matrix, constants):\n",
        "    det_main = np.linalg.det(coeff_matrix)\n",
        "    if det_main == 0:\n",
        "        return \"System has no unique solution\"\n",
        "    solutions = []\n",
        "    for i in range(len(constants)):\n",
        "        temp_matrix = coeff_matrix.copy()\n",
        "        temp_matrix[:, i] = constants\n",
        "        solutions.append(np.linalg.det(temp_matrix) / det_main)\n",
        "    return solutions\n",
        "\n",
        "# First system\n",
        "coeff_matrix_1 = np.array([[2, -3], [3, 5]])\n",
        "constants_1 = np.array([7, 2])\n",
        "\n",
        "result_1 = cramers_rule(coeff_matrix_1, constants_1)\n",
        "print(\"Solution for the first system:\", result_1)\n",
        "\n",
        "# Second system\n",
        "coeff_matrix_2 = np.array([[2, 1, -1], [-1, 2, 5], [3, -2, -1]])\n",
        "constants_2 = np.array([1, 4, -1])\n",
        "\n",
        "result_2 = cramers_rule(coeff_matrix_2, constants_2)\n",
        "print(\"Solution for the second system:\", result_2)\n",
        "\n",
        "# Third system\n",
        "coeff_matrix_3 = np.array([[1, 1, 1], [1, -3, 2], [2, -3, 4]])\n",
        "constants_3 = np.array([2, 6, -2])\n",
        "\n",
        "result_3 = cramers_rule(coeff_matrix_3, constants_3)\n",
        "print(\"Solution for the third system:\", result_3)\n",
        "\n",
        "# Fourth system (Check determinant)\n",
        "coeff_matrix_4 = np.array([[1, 2, 3], [4, 5, 6], [7, 8, 9]])\n",
        "constants_4 = np.array([3, 6, 1])\n",
        "\n",
        "det_main_4 = np.linalg.det(coeff_matrix_4)\n",
        "\n",
        "if det_main_4 == 0:\n",
        "    print(\"The fourth system cannot be solved using Cramer's Rule because the determinant of the coefficient matrix is zero.\")\n",
        "else:\n",
        "    result_4 = cramers_rule(coeff_matrix_4, constants_4)\n",
        "    print(\"Solution for the fourth system:\", result_4)\n"
      ],
      "metadata": {
        "colab": {
          "base_uri": "https://localhost:8080/"
        },
        "id": "dgyoy_tozdD5",
        "outputId": "af69853c-ee20-4083-b1b5-a65e84a73cd9"
      },
      "execution_count": 34,
      "outputs": [
        {
          "output_type": "stream",
          "name": "stdout",
          "text": [
            "Solution for the first system: [2.157894736842106, -0.8947368421052633]\n",
            "Solution for the second system: [0.3823529411764705, 0.7941176470588234, 0.5588235294117645]\n",
            "Solution for the third system: [21.33333333333332, -4.666666666666664, -14.666666666666668]\n",
            "The fourth system cannot be solved using Cramer's Rule because the determinant of the coefficient matrix is zero.\n"
          ]
        }
      ]
    },
    {
      "cell_type": "code",
      "source": [
        "# 9. Linear Equations by Gauss Elimination\n",
        "import numpy as np\n",
        "\n",
        "A1 = np.array([[1, 2, -2], [2, -1, 2], [3, 2, 1]])\n",
        "b1 = np.array([4, 0, 1])\n",
        "x1 = np.linalg.solve(A1, b1)\n",
        "print(x1)\n",
        "\n",
        "A2 = np.array([[1, 1, -1], [2, -1, 3], [3, -2, 0]])\n",
        "b2 = np.array([-2, 3, -1])\n",
        "x2 = np.linalg.solve(A2, b2)\n",
        "print(x2)\n",
        "\n",
        "A3 = np.array([[1, 1, -2], [2, 3, -2], [3, 5, 0]])\n",
        "b3 = np.array([0, 4, 3])\n",
        "x3 = np.linalg.solve(A3, b3)\n",
        "print(x3)\n",
        "\n"
      ],
      "metadata": {
        "colab": {
          "base_uri": "https://localhost:8080/"
        },
        "id": "wprknMmnzeva",
        "outputId": "d0adab86-66ef-4449-c852-daf55c8aeb1d"
      },
      "execution_count": 32,
      "outputs": [
        {
          "output_type": "stream",
          "name": "stdout",
          "text": [
            "[ 1.63636364 -0.90909091 -2.09090909]\n",
            "[-0.5  -0.25  1.25]\n",
            "[-14.    9.   -2.5]\n"
          ]
        }
      ]
    },
    {
      "cell_type": "code",
      "source": [
        "# 10. Linear Equations by Matrix Inversion\n",
        "# 1. System of equations\n",
        "A4 = np.array([[1, 2, 3], [0, 2, 3], [0, 0, 3]])\n",
        "b4 = np.array([5, 4, 3])\n",
        "x4 = np.linalg.inv(A4) @ b4\n",
        "print(x4)\n",
        "\n",
        "# 2. System of equations\n",
        "A5 = np.array([[1, 2, 3], [4, 5, 6], [7, 8, 9]])\n",
        "b5 = np.array([41, 93, 145])\n",
        "x5 = np.linalg.inv(A5) @ b5\n",
        "print(x5)\n",
        "\n"
      ],
      "metadata": {
        "id": "wQ_PQBQY0JGA"
      },
      "execution_count": null,
      "outputs": []
    },
    {
      "cell_type": "code",
      "source": [
        "# 11. Vectors I\n",
        "# 1. Find scalar for vector [3, 4]\n",
        "a = np.array([3, 4])\n",
        "scale = 1 / np.linalg.norm(a)\n",
        "print(scale)\n",
        "\n",
        "# 2. Length and unit vector of [1, 1]\n",
        "b = np.array([1, 1])\n",
        "length_b = np.linalg.norm(b)\n",
        "unit_b = b / length_b\n",
        "print(length_b, unit_b)\n",
        "\n",
        "# 3. Plot vector and unit vector\n",
        "import matplotlib.pyplot as plt\n",
        "plt.quiver(0, 0, b[0], b[1], angles='xy', scale_units='xy', scale=1, color='b', label=\"Vector b\")\n",
        "plt.quiver(0, 0, unit_b[0], unit_b[1], angles='xy', scale_units='xy', scale=1, color='g', label=\"Unit vector\")\n",
        "plt.xlim(-1, 2)\n",
        "plt.ylim(-1, 2)\n",
        "plt.grid()\n",
        "plt.legend()\n",
        "plt.show()\n",
        "\n",
        "# 4. Length and unit vector of [1, 2, 3]\n",
        "c = np.array([1, 2, 3])\n",
        "length_c = np.linalg.norm(c)\n",
        "unit_c = c / length_c\n",
        "print(length_c, unit_c)\n",
        "\n",
        "# 5. Cartesian coordinates in basis\n",
        "v = np.array([2, 3, 4])\n",
        "b1 = np.array([1, 0, 1])\n",
        "b2 = np.array([0, 1, 0])\n",
        "b3 = np.array([1, 0, -1])\n",
        "coords = [np.dot(v, b1), np.dot(v, b2), np.dot(v, b3)]\n",
        "print(coords)\n",
        "\n"
      ],
      "metadata": {
        "colab": {
          "base_uri": "https://localhost:8080/",
          "height": 504
        },
        "id": "pEV4GQLU0TMF",
        "outputId": "c8659137-cf08-4f7b-e20c-1a833dc882af"
      },
      "execution_count": 15,
      "outputs": [
        {
          "output_type": "stream",
          "name": "stdout",
          "text": [
            "0.2\n",
            "1.4142135623730951 [0.70710678 0.70710678]\n"
          ]
        },
        {
          "output_type": "display_data",
          "data": {
            "text/plain": [
              "<Figure size 640x480 with 1 Axes>"
            ],
            "image/png": "[encoded data removed]"
          },
          "metadata": {}
        },
        {
          "output_type": "stream",
          "name": "stdout",
          "text": [
            "3.7416573867739413 [0.26726124 0.53452248 0.80178373]\n",
            "[6, 3, -2]\n"
          ]
        }
      ]
    },
    {
      "cell_type": "code",
      "source": [
        "# 12. Vectors II\n",
        "import numpy as np\n",
        "import matplotlib.pyplot as plt\n",
        "\n",
        "v1 = np.array([2, 1])\n",
        "v2 = np.array([-1, 1])\n",
        "v_sum = v1 + v2\n",
        "\n",
        "# Plotting\n",
        "plt.quiver(0, 0, v1[0], v1[1], angles='xy', scale_units='xy', scale=1, color='r', label=\"v1\")\n",
        "plt.quiver(0, 0, v2[0], v2[1], angles='xy', scale_units='xy', scale=1, color='b', label=\"v2\")\n",
        "plt.quiver(0, 0, v_sum[0], v_sum[1], angles='xy', scale_units='xy', scale=1, color='g', label=\"v1 + v2\")\n",
        "plt.xlim(-2, 4)\n",
        "plt.ylim(-2, 4)\n",
        "plt.axhline(0, color='black', linewidth=0.5)\n",
        "plt.axvline(0, color='black', linewidth=0.5)\n",
        "plt.grid()\n",
        "plt.legend()\n",
        "plt.show()\n",
        "\n",
        "v1 = np.array([2, 1])\n",
        "v2 = np.array([-1, 1])\n",
        "area = 0.5 * np.abs(np.cross(v1, v2))\n",
        "print(\"Area of the triangle:\", area)\n",
        "\n",
        "v1 = np.array([2, 1, 1])\n",
        "v2 = np.array([-1, 1, 1])\n",
        "v3 = np.array([1, 2, 1])\n",
        "volume = np.abs(np.dot(v1, np.cross(v2, v3)))\n",
        "print(\"Volume of the parallelepiped:\", volume)\n",
        "\n",
        "v1 = np.array([2, 1])\n",
        "v2 = np.array([-1, 1])\n",
        "dot_product = np.dot(v1, v2)\n",
        "if dot_product == 0:\n",
        "\n",
        "\n",
        "v1 = np.array([4, 2, 1])\n",
        "v2 = np.array([1, 3, 2])\n",
        "cos_theta = np.dot(v1, v2) / (np.linalg.norm(v1) * np.linalg.norm(v2))\n",
        "angle = np.arccos(cos_theta)\n",
        "\n",
        "\n",
        "a = np.array([1, 2, 3])\n",
        "b = np.array([4, 5, 6])\n",
        "c = np.array([7, 8, 9])\n",
        "\n",
        "lhs = np.cross(a, np.cross(b, c))\n",
        "rhs = (np.dot(a, c) * b) - (np.dot(a, b) * c)\n",
        "\n",
        "\n",
        "\n"
      ],
      "metadata": {
        "colab": {
          "base_uri": "https://localhost:8080/",
          "height": 504
        },
        "id": "1hzBcHJT3SWZ",
        "outputId": "9af73e0c-b528-4921-ee7a-b8cc67c1c8fe"
      },
      "execution_count": 43,
      "outputs": [
        {
          "output_type": "display_data",
          "data": {
            "text/plain": [
              "<Figure size 640x480 with 1 Axes>"
            ],
            "image/png": "[encoded data removed]"
          },
          "metadata": {}
        },
        {
          "output_type": "stream",
          "name": "stdout",
          "text": [
            "Area of the triangle: 1.5\n",
            "Volume of the parallelepiped: 3\n",
            "Vectors are not perpendicular.\n",
            "Angle between vectors (in radians): 0.7956029534845351\n"
          ]
        }
      ]
    },
    {
      "cell_type": "code",
      "source": [],
      "metadata": {
        "id": "ole5tUXk32Pz"
      },
      "execution_count": null,
      "outputs": []
    }
  ]
}